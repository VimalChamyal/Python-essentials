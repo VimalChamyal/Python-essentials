{
  "nbformat": 4,
  "nbformat_minor": 0,
  "metadata": {
    "colab": {
      "provenance": [],
      "authorship_tag": "ABX9TyOjo3pb8JrKae5iaOTIzz5I",
      "include_colab_link": true
    },
    "kernelspec": {
      "name": "python3",
      "display_name": "Python 3"
    },
    "language_info": {
      "name": "python"
    }
  },
  "cells": [
    {
      "cell_type": "markdown",
      "metadata": {
        "id": "view-in-github",
        "colab_type": "text"
      },
      "source": [
        "<a href=\"https://colab.research.google.com/github/VimalChamyal/Python-for-data-science/blob/main/Python_Essentials.ipynb\" target=\"_parent\"><img src=\"https://colab.research.google.com/assets/colab-badge.svg\" alt=\"Open In Colab\"/></a>"
      ]
    },
    {
      "cell_type": "markdown",
      "source": [
        "If else"
      ],
      "metadata": {
        "id": "mDwHX8t-wxGn"
      }
    },
    {
      "cell_type": "code",
      "source": [
        "number = int(input('Please enter a number : '))\n",
        "if number < 10:\n",
        "  print('number is less than 10')\n",
        "else:\n",
        "  print('Number is either = 10 or greater than 10')"
      ],
      "metadata": {
        "colab": {
          "base_uri": "https://localhost:8080/"
        },
        "id": "iPl2fccpwyZP",
        "outputId": "16a71e9b-5e91-4d6c-ebba-0888074f23d7"
      },
      "execution_count": null,
      "outputs": [
        {
          "output_type": "stream",
          "name": "stdout",
          "text": [
            "Please enter a number : 10\n",
            "Number is either = 10 or greater than 10\n"
          ]
        }
      ]
    },
    {
      "cell_type": "markdown",
      "source": [
        "Elif statement"
      ],
      "metadata": {
        "id": "mNSVEpXRxagy"
      }
    },
    {
      "cell_type": "code",
      "source": [
        "number = int(input('Please enter a number : '))\n",
        "if number < 10:\n",
        "  print('number is less than 10')\n",
        "elif number == 10:\n",
        "  print('number is = 10')\n",
        "elif 100< number < 200:\n",
        "  print('number is greater than 100 but lesser than 200')\n",
        "else:\n",
        "  print('Number is either = 10 or greater than 10')"
      ],
      "metadata": {
        "colab": {
          "base_uri": "https://localhost:8080/"
        },
        "id": "gNYlKDiew2OV",
        "outputId": "5bd2996e-1035-47e8-b7eb-847056ebc775"
      },
      "execution_count": null,
      "outputs": [
        {
          "output_type": "stream",
          "name": "stdout",
          "text": [
            "Please enter a number : 201\n",
            "Number is either = 10 or greater than 10\n"
          ]
        }
      ]
    },
    {
      "cell_type": "markdown",
      "source": [
        "For loop"
      ],
      "metadata": {
        "id": "PYKd8xCmyVVa"
      }
    },
    {
      "cell_type": "code",
      "source": [
        "# For loop is used to iterate over a sequence | list, tuple, string or other iterable objects. This is also called traversal\n",
        "\n",
        "numbers = [1,2,3,4,5,6,7]\n",
        "for x in numbers:\n",
        "  print(x, 'This is the', x, 'number')"
      ],
      "metadata": {
        "colab": {
          "base_uri": "https://localhost:8080/"
        },
        "id": "NpS_a4eGyUzV",
        "outputId": "a1fe836b-1864-4f59-c66f-880ab4f2936b"
      },
      "execution_count": null,
      "outputs": [
        {
          "output_type": "stream",
          "name": "stdout",
          "text": [
            "1 This is the 1 number\n",
            "2 This is the 2 number\n",
            "3 This is the 3 number\n",
            "4 This is the 4 number\n",
            "5 This is the 5 number\n",
            "6 This is the 6 number\n",
            "7 This is the 7 number\n"
          ]
        }
      ]
    },
    {
      "cell_type": "code",
      "source": [
        "numbers = [1,2,3,4,5,6,7]\n",
        "for x in numbers:\n",
        "  if x >3:\n",
        "    print(x, 'number greater than 3')"
      ],
      "metadata": {
        "colab": {
          "base_uri": "https://localhost:8080/"
        },
        "id": "DIIjGOuJype0",
        "outputId": "248c4ba4-4a40-40ae-e5ce-e09d5cbf2cab"
      },
      "execution_count": null,
      "outputs": [
        {
          "output_type": "stream",
          "name": "stdout",
          "text": [
            "4 number greater than 3\n",
            "5 number greater than 3\n",
            "6 number greater than 3\n",
            "7 number greater than 3\n"
          ]
        }
      ]
    },
    {
      "cell_type": "markdown",
      "source": [
        "While loop"
      ],
      "metadata": {
        "id": "rG5a0K6GzWWm"
      }
    },
    {
      "cell_type": "code",
      "source": [
        "# For loop is used to iterate over a block of code as long as the condition is true\n",
        "\n",
        "n = 5\n",
        "i = 1\n",
        "\n",
        "while i < n:\n",
        "  print('Hey', i)\n",
        "  i=i+1"
      ],
      "metadata": {
        "colab": {
          "base_uri": "https://localhost:8080/"
        },
        "id": "WRmYC7wNx_-J",
        "outputId": "677e174c-8ffb-40a3-9c6c-46c82d64b2fb"
      },
      "execution_count": null,
      "outputs": [
        {
          "output_type": "stream",
          "name": "stdout",
          "text": [
            "Hey 1\n",
            "Hey 2\n",
            "Hey 3\n",
            "Hey 4\n"
          ]
        }
      ]
    },
    {
      "cell_type": "markdown",
      "source": [
        "Break"
      ],
      "metadata": {
        "id": "FdtHFgMC0Hop"
      }
    },
    {
      "cell_type": "code",
      "source": [
        "# The statement terminates the current loop\n",
        "for letter in 'Hello World':\n",
        "  if letter == ' ':\n",
        "    break\n",
        "  print(letter)"
      ],
      "metadata": {
        "colab": {
          "base_uri": "https://localhost:8080/"
        },
        "id": "v_mYwYf1zwLR",
        "outputId": "e1caa2a3-d954-4514-b594-55479c3d26f6"
      },
      "execution_count": null,
      "outputs": [
        {
          "output_type": "stream",
          "name": "stdout",
          "text": [
            "H\n",
            "e\n",
            "l\n",
            "l\n",
            "o\n"
          ]
        }
      ]
    },
    {
      "cell_type": "markdown",
      "source": [
        "Continue"
      ],
      "metadata": {
        "id": "jEvEzdRZ0xJh"
      }
    },
    {
      "cell_type": "code",
      "source": [
        "# Used to skip something in a loop\n",
        "for letter in 'Hello World':\n",
        "  if letter == ' ':\n",
        "    continue\n",
        "  print(letter)"
      ],
      "metadata": {
        "colab": {
          "base_uri": "https://localhost:8080/"
        },
        "id": "qz_X3Edd0pU-",
        "outputId": "8aee0884-b51b-4939-a99e-2fc7c2741cba"
      },
      "execution_count": null,
      "outputs": [
        {
          "output_type": "stream",
          "name": "stdout",
          "text": [
            "H\n",
            "e\n",
            "l\n",
            "l\n",
            "o\n",
            "W\n",
            "o\n",
            "r\n",
            "l\n",
            "d\n"
          ]
        }
      ]
    },
    {
      "cell_type": "markdown",
      "source": [
        "Python Functions"
      ],
      "metadata": {
        "id": "zmhAitwv2FVX"
      }
    },
    {
      "cell_type": "code",
      "source": [
        "# These help us to divide our code into useful blocks. These get executed whenever called\n",
        "# They are of 2 types, built-in & user-defined functions\n",
        "\n",
        "def Addition(a,b):\n",
        "  c=a+b\n",
        "  return(c)"
      ],
      "metadata": {
        "id": "XabVQg0L1Eq8"
      },
      "execution_count": null,
      "outputs": []
    },
    {
      "cell_type": "code",
      "source": [
        "Addition(10,6)"
      ],
      "metadata": {
        "colab": {
          "base_uri": "https://localhost:8080/"
        },
        "id": "FOXQjlQw3Jcj",
        "outputId": "96b18f90-3bc9-4fca-e539-5b5fc575f3a0"
      },
      "execution_count": null,
      "outputs": [
        {
          "output_type": "execute_result",
          "data": {
            "text/plain": [
              "16"
            ]
          },
          "metadata": {},
          "execution_count": 23
        }
      ]
    },
    {
      "cell_type": "code",
      "source": [
        "def SimpleInterest(P,R,T):\n",
        "  I = P*R*T/100\n",
        "  Amount = P+I\n",
        "  return 'Interest = '+ str(I), 'Amount = '+ str(Amount)"
      ],
      "metadata": {
        "id": "X_peHs6Q3Mcr"
      },
      "execution_count": null,
      "outputs": []
    },
    {
      "cell_type": "code",
      "source": [
        "SimpleInterest(1000, 10, 2)\n",
        "# In braces we have parameters of the function"
      ],
      "metadata": {
        "colab": {
          "base_uri": "https://localhost:8080/"
        },
        "id": "anf5JCtY3cCf",
        "outputId": "a9e1e233-6df5-4723-aeb0-250280ed8d37"
      },
      "execution_count": null,
      "outputs": [
        {
          "output_type": "execute_result",
          "data": {
            "text/plain": [
              "('Interest = 200.0', 'Amount = 1200.0')"
            ]
          },
          "metadata": {},
          "execution_count": 38
        }
      ]
    },
    {
      "cell_type": "markdown",
      "source": [
        "Arbitary args"
      ],
      "metadata": {
        "id": "p8cesmTR5YU1"
      }
    },
    {
      "cell_type": "code",
      "source": [
        "# Arbitary args used when we don't know number of parameters\n",
        "def students(*names):\n",
        "  for name in names:\n",
        "    print('Welcome', name)"
      ],
      "metadata": {
        "id": "_tPSyeah3gKV"
      },
      "execution_count": null,
      "outputs": []
    },
    {
      "cell_type": "code",
      "source": [
        "students('Alen','Yogi','Samarth','Lokesh','Loki','Thor')"
      ],
      "metadata": {
        "colab": {
          "base_uri": "https://localhost:8080/"
        },
        "id": "OpdZi0vX5t3y",
        "outputId": "275669c7-9d45-40bb-b6e5-306b90b41909"
      },
      "execution_count": null,
      "outputs": [
        {
          "output_type": "stream",
          "name": "stdout",
          "text": [
            "Welcome Alen\n",
            "Welcome Yogi\n",
            "Welcome Samarth\n",
            "Welcome Lokesh\n",
            "Welcome Loki\n",
            "Welcome Thor\n"
          ]
        }
      ]
    },
    {
      "cell_type": "code",
      "source": [
        "students('Karl', 'Karl L', 'Chris', 'Riya')"
      ],
      "metadata": {
        "colab": {
          "base_uri": "https://localhost:8080/"
        },
        "id": "FRaycykr6Loe",
        "outputId": "ce90e191-443d-4756-f896-2c017a0f079c"
      },
      "execution_count": null,
      "outputs": [
        {
          "output_type": "stream",
          "name": "stdout",
          "text": [
            "Welcome Karl\n",
            "Welcome Karl L\n",
            "Welcome Chris\n",
            "Welcome Riya\n"
          ]
        }
      ]
    },
    {
      "cell_type": "markdown",
      "source": [
        "Lambda Function"
      ],
      "metadata": {
        "id": "sgAbpMDg6uUV"
      }
    },
    {
      "cell_type": "code",
      "source": [
        "# For creating an anonymous function.\n",
        "# Here we're creating a normal function\n",
        "def func(a):\n",
        "  c = a^2\n",
        "  return(c)\n",
        "\n",
        "func(5)"
      ],
      "metadata": {
        "colab": {
          "base_uri": "https://localhost:8080/"
        },
        "id": "MnUtbcPq6fCz",
        "outputId": "da8534e5-5bcc-413b-a6de-b690cfb228ea"
      },
      "execution_count": null,
      "outputs": [
        {
          "output_type": "execute_result",
          "data": {
            "text/plain": [
              "7"
            ]
          },
          "metadata": {},
          "execution_count": 47
        }
      ]
    },
    {
      "cell_type": "code",
      "source": [
        "x = lambda a: a^2\n",
        "print(x(5))"
      ],
      "metadata": {
        "colab": {
          "base_uri": "https://localhost:8080/"
        },
        "id": "ii1X9JVL7V-Y",
        "outputId": "8544cbd4-9725-40f7-8d66-4d8c81e810d0"
      },
      "execution_count": null,
      "outputs": [
        {
          "output_type": "stream",
          "name": "stdout",
          "text": [
            "7\n"
          ]
        }
      ]
    },
    {
      "cell_type": "code",
      "source": [
        "y = lambda a,b: a*b\n",
        "print(y(5,7))"
      ],
      "metadata": {
        "colab": {
          "base_uri": "https://localhost:8080/"
        },
        "id": "h7sMyra77wLe",
        "outputId": "9ce67f3a-6f7f-49b4-da1c-52170dbec06c"
      },
      "execution_count": null,
      "outputs": [
        {
          "output_type": "stream",
          "name": "stdout",
          "text": [
            "35\n"
          ]
        }
      ]
    },
    {
      "cell_type": "markdown",
      "source": [
        "Built-in functions"
      ],
      "metadata": {
        "id": "lNx3pgyN8_Nn"
      }
    },
    {
      "cell_type": "code",
      "source": [
        "a = 'google'\n",
        "len(a)"
      ],
      "metadata": {
        "colab": {
          "base_uri": "https://localhost:8080/"
        },
        "id": "MHwUCavW8Jsf",
        "outputId": "b9bc007c-6145-43af-e954-dc4c2e7b463d"
      },
      "execution_count": null,
      "outputs": [
        {
          "output_type": "execute_result",
          "data": {
            "text/plain": [
              "6"
            ]
          },
          "metadata": {},
          "execution_count": 54
        }
      ]
    },
    {
      "cell_type": "code",
      "source": [
        "a.upper()"
      ],
      "metadata": {
        "colab": {
          "base_uri": "https://localhost:8080/",
          "height": 35
        },
        "id": "XDaA8h6i9IOe",
        "outputId": "14ceabba-d9d0-4446-af20-754a5d97fbd3"
      },
      "execution_count": null,
      "outputs": [
        {
          "output_type": "execute_result",
          "data": {
            "text/plain": [
              "'GOOGLE'"
            ],
            "application/vnd.google.colaboratory.intrinsic+json": {
              "type": "string"
            }
          },
          "metadata": {},
          "execution_count": 55
        }
      ]
    },
    {
      "cell_type": "code",
      "source": [
        "min(100,200, 58/10, 58^2, 101)"
      ],
      "metadata": {
        "colab": {
          "base_uri": "https://localhost:8080/"
        },
        "id": "jgoA9KIC9Tb4",
        "outputId": "a75f8cfe-ed83-4b03-f551-834d2f13c1c1"
      },
      "execution_count": null,
      "outputs": [
        {
          "output_type": "execute_result",
          "data": {
            "text/plain": [
              "5.8"
            ]
          },
          "metadata": {},
          "execution_count": 59
        }
      ]
    },
    {
      "cell_type": "code",
      "source": [],
      "metadata": {
        "id": "qhwR_U9c9gfN"
      },
      "execution_count": null,
      "outputs": []
    }
  ]
}