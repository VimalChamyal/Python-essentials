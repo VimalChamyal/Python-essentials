{
  "nbformat": 4,
  "nbformat_minor": 0,
  "metadata": {
    "colab": {
      "provenance": [],
      "authorship_tag": "ABX9TyOrTY/gNbLc29RVQDWqlSVp",
      "include_colab_link": true
    },
    "kernelspec": {
      "name": "python3",
      "display_name": "Python 3"
    },
    "language_info": {
      "name": "python"
    }
  },
  "cells": [
    {
      "cell_type": "markdown",
      "metadata": {
        "id": "view-in-github",
        "colab_type": "text"
      },
      "source": [
        "<a href=\"https://colab.research.google.com/github/VimalChamyal/Python-for-data-science/blob/main/Python_basics.ipynb\" target=\"_parent\"><img src=\"https://colab.research.google.com/assets/colab-badge.svg\" alt=\"Open In Colab\"/></a>"
      ]
    },
    {
      "cell_type": "markdown",
      "source": [
        "Why use python ?\n",
        "Python is simple to code"
      ],
      "metadata": {
        "id": "jIqpi1pBBHJp"
      }
    },
    {
      "cell_type": "code",
      "execution_count": 3,
      "metadata": {
        "colab": {
          "base_uri": "https://localhost:8080/"
        },
        "id": "jLFJks2rAIXq",
        "outputId": "058592c8-4d79-44fb-c93c-409122dfbe1a"
      },
      "outputs": [
        {
          "output_type": "stream",
          "name": "stdout",
          "text": [
            "harsh\n"
          ]
        }
      ],
      "source": [
        "print(\"harsh\")"
      ]
    },
    {
      "cell_type": "markdown",
      "source": [
        "Variable & String data type"
      ],
      "metadata": {
        "id": "GMriigAQBVVa"
      }
    },
    {
      "cell_type": "code",
      "source": [
        "x = \"harsh\"\n",
        "x"
      ],
      "metadata": {
        "colab": {
          "base_uri": "https://localhost:8080/",
          "height": 36
        },
        "id": "PCpECg9lA5FE",
        "outputId": "49109771-b7a6-4e78-be77-d63fddaf8728"
      },
      "execution_count": 57,
      "outputs": [
        {
          "output_type": "execute_result",
          "data": {
            "text/plain": [
              "'harsh'"
            ],
            "application/vnd.google.colaboratory.intrinsic+json": {
              "type": "string"
            }
          },
          "metadata": {},
          "execution_count": 57
        }
      ]
    },
    {
      "cell_type": "markdown",
      "source": [
        "Numbers | Integers & Float | Checking datatypes"
      ],
      "metadata": {
        "id": "e6ZiTvdiCBt9"
      }
    },
    {
      "cell_type": "code",
      "source": [
        "type(True)"
      ],
      "metadata": {
        "colab": {
          "base_uri": "https://localhost:8080/"
        },
        "id": "LHfsxBluHp2u",
        "outputId": "dd661073-35ba-4f5e-84d8-8c89a1e38ee6"
      },
      "execution_count": 59,
      "outputs": [
        {
          "output_type": "execute_result",
          "data": {
            "text/plain": [
              "bool"
            ]
          },
          "metadata": {},
          "execution_count": 59
        }
      ]
    },
    {
      "cell_type": "code",
      "source": [
        "type(x)"
      ],
      "metadata": {
        "colab": {
          "base_uri": "https://localhost:8080/"
        },
        "id": "VvXMB8JeHiRH",
        "outputId": "12ed72d4-dc44-4edf-d3f8-eee5c26da2a1"
      },
      "execution_count": 58,
      "outputs": [
        {
          "output_type": "execute_result",
          "data": {
            "text/plain": [
              "str"
            ]
          },
          "metadata": {},
          "execution_count": 58
        }
      ]
    },
    {
      "cell_type": "code",
      "source": [
        "a = 2\n",
        "a"
      ],
      "metadata": {
        "colab": {
          "base_uri": "https://localhost:8080/"
        },
        "id": "hfnvV2zmBYqK",
        "outputId": "55a621c3-e97e-4a98-e256-4429e2e4e8c0"
      },
      "execution_count": 12,
      "outputs": [
        {
          "output_type": "execute_result",
          "data": {
            "text/plain": [
              "2"
            ]
          },
          "metadata": {},
          "execution_count": 12
        }
      ]
    },
    {
      "cell_type": "code",
      "source": [
        "type(a)"
      ],
      "metadata": {
        "colab": {
          "base_uri": "https://localhost:8080/"
        },
        "id": "J_7n-jjGCg31",
        "outputId": "b11dc8f2-11f3-4d3e-aa6c-41412e1ab433"
      },
      "execution_count": 13,
      "outputs": [
        {
          "output_type": "execute_result",
          "data": {
            "text/plain": [
              "int"
            ]
          },
          "metadata": {},
          "execution_count": 13
        }
      ]
    },
    {
      "cell_type": "code",
      "source": [
        "type(3.44443)"
      ],
      "metadata": {
        "colab": {
          "base_uri": "https://localhost:8080/"
        },
        "id": "djFcTnYmBfVM",
        "outputId": "065d679d-c2f2-47bd-f6b7-43cadee5a03d"
      },
      "execution_count": 14,
      "outputs": [
        {
          "output_type": "execute_result",
          "data": {
            "text/plain": [
              "float"
            ]
          },
          "metadata": {},
          "execution_count": 14
        }
      ]
    },
    {
      "cell_type": "markdown",
      "source": [
        "Arithematic operators"
      ],
      "metadata": {
        "id": "a4TEl2GmC1Tt"
      }
    },
    {
      "cell_type": "code",
      "source": [
        "3 * 44.55432"
      ],
      "metadata": {
        "colab": {
          "base_uri": "https://localhost:8080/"
        },
        "id": "8x2Fn6TdCWZs",
        "outputId": "82df7cd2-f7b3-468d-a501-11a02a823550"
      },
      "execution_count": 18,
      "outputs": [
        {
          "output_type": "execute_result",
          "data": {
            "text/plain": [
              "133.66296"
            ]
          },
          "metadata": {},
          "execution_count": 18
        }
      ]
    },
    {
      "cell_type": "code",
      "source": [
        "3 ** 2\n",
        "\n",
        "# squaring the numbers"
      ],
      "metadata": {
        "colab": {
          "base_uri": "https://localhost:8080/"
        },
        "id": "dgtL0Il6CxlA",
        "outputId": "1c5d9720-fd02-485c-edf5-ce850450ccba"
      },
      "execution_count": 22,
      "outputs": [
        {
          "output_type": "execute_result",
          "data": {
            "text/plain": [
              "9"
            ]
          },
          "metadata": {},
          "execution_count": 22
        }
      ]
    },
    {
      "cell_type": "code",
      "source": [
        "25/6"
      ],
      "metadata": {
        "colab": {
          "base_uri": "https://localhost:8080/"
        },
        "id": "vI8WEaekC9-p",
        "outputId": "061c6770-eb8f-4486-8631-67574a332b1d"
      },
      "execution_count": 23,
      "outputs": [
        {
          "output_type": "execute_result",
          "data": {
            "text/plain": [
              "4.166666666666667"
            ]
          },
          "metadata": {},
          "execution_count": 23
        }
      ]
    },
    {
      "cell_type": "code",
      "source": [
        "25 % 6\n",
        "\n",
        "# To check the remainder"
      ],
      "metadata": {
        "colab": {
          "base_uri": "https://localhost:8080/"
        },
        "id": "Xzohg1URDeKX",
        "outputId": "c194f72d-c51d-4b96-b447-2ff08defc479"
      },
      "execution_count": 25,
      "outputs": [
        {
          "output_type": "execute_result",
          "data": {
            "text/plain": [
              "1"
            ]
          },
          "metadata": {},
          "execution_count": 25
        }
      ]
    },
    {
      "cell_type": "code",
      "source": [
        "25 // 6\n",
        "\n",
        "# To check the quotient"
      ],
      "metadata": {
        "colab": {
          "base_uri": "https://localhost:8080/"
        },
        "id": "ahQaMLhCDg8h",
        "outputId": "6d4cae3a-056f-4bf7-db88-4f60cae7adee"
      },
      "execution_count": 27,
      "outputs": [
        {
          "output_type": "execute_result",
          "data": {
            "text/plain": [
              "4"
            ]
          },
          "metadata": {},
          "execution_count": 27
        }
      ]
    },
    {
      "cell_type": "markdown",
      "source": [
        "WAP to calculate area of a circle where r = 10"
      ],
      "metadata": {
        "id": "eTOAgineEEb3"
      }
    },
    {
      "cell_type": "code",
      "source": [
        "radius = 10\n",
        "pi = 22/7\n",
        "\n",
        "area  = pi * (radius **2)\n",
        "area"
      ],
      "metadata": {
        "colab": {
          "base_uri": "https://localhost:8080/"
        },
        "id": "gkzh3yzSD27n",
        "outputId": "bdc69562-e4c9-4a50-f1ac-265db68f39f8"
      },
      "execution_count": 29,
      "outputs": [
        {
          "output_type": "execute_result",
          "data": {
            "text/plain": [
              "314.2857142857143"
            ]
          },
          "metadata": {},
          "execution_count": 29
        }
      ]
    },
    {
      "cell_type": "code",
      "source": [
        "area"
      ],
      "metadata": {
        "colab": {
          "base_uri": "https://localhost:8080/"
        },
        "id": "8yP4pfOYEsxF",
        "outputId": "1676e863-7e07-45fa-9ffa-1fc87f40982d"
      },
      "execution_count": 30,
      "outputs": [
        {
          "output_type": "execute_result",
          "data": {
            "text/plain": [
              "314.2857142857143"
            ]
          },
          "metadata": {},
          "execution_count": 30
        }
      ]
    },
    {
      "cell_type": "markdown",
      "source": [
        "Rounding"
      ],
      "metadata": {
        "id": "Yc5CnEyDF0C4"
      }
    },
    {
      "cell_type": "code",
      "source": [
        "round(area, 2)"
      ],
      "metadata": {
        "colab": {
          "base_uri": "https://localhost:8080/"
        },
        "id": "wUz0DyloFMc0",
        "outputId": "281774af-f79b-4e54-bce9-dd77528fc538"
      },
      "execution_count": 37,
      "outputs": [
        {
          "output_type": "execute_result",
          "data": {
            "text/plain": [
              "314.29"
            ]
          },
          "metadata": {},
          "execution_count": 37
        }
      ]
    },
    {
      "cell_type": "markdown",
      "source": [
        "Booleans"
      ],
      "metadata": {
        "id": "npWDvyMPF-x6"
      }
    },
    {
      "cell_type": "code",
      "source": [
        "2 == 5"
      ],
      "metadata": {
        "colab": {
          "base_uri": "https://localhost:8080/"
        },
        "id": "OkZ-rTZWFb5k",
        "outputId": "40240bb2-975e-4912-d1ac-eed438e87905"
      },
      "execution_count": 38,
      "outputs": [
        {
          "output_type": "execute_result",
          "data": {
            "text/plain": [
              "False"
            ]
          },
          "metadata": {},
          "execution_count": 38
        }
      ]
    },
    {
      "cell_type": "code",
      "source": [
        "4 > 8"
      ],
      "metadata": {
        "colab": {
          "base_uri": "https://localhost:8080/"
        },
        "id": "JqVY3gcNGhPi",
        "outputId": "2d56a7e7-598e-4da6-871e-3de9eca3b435"
      },
      "execution_count": 39,
      "outputs": [
        {
          "output_type": "execute_result",
          "data": {
            "text/plain": [
              "False"
            ]
          },
          "metadata": {},
          "execution_count": 39
        }
      ]
    },
    {
      "cell_type": "code",
      "source": [
        "5<10"
      ],
      "metadata": {
        "colab": {
          "base_uri": "https://localhost:8080/"
        },
        "id": "N9EEAOD_GkLD",
        "outputId": "e4b45e91-ab17-489c-f4b4-6f95f2d164f9"
      },
      "execution_count": 40,
      "outputs": [
        {
          "output_type": "execute_result",
          "data": {
            "text/plain": [
              "True"
            ]
          },
          "metadata": {},
          "execution_count": 40
        }
      ]
    },
    {
      "cell_type": "code",
      "source": [
        "x = 10"
      ],
      "metadata": {
        "id": "G-ScXmjsGlTF"
      },
      "execution_count": 41,
      "outputs": []
    },
    {
      "cell_type": "code",
      "source": [
        "x > 9 and x == 10"
      ],
      "metadata": {
        "colab": {
          "base_uri": "https://localhost:8080/"
        },
        "id": "oedeMU92Grbc",
        "outputId": "b4017d1e-3bbf-468c-a272-352c885f0781"
      },
      "execution_count": 49,
      "outputs": [
        {
          "output_type": "execute_result",
          "data": {
            "text/plain": [
              "True"
            ]
          },
          "metadata": {},
          "execution_count": 49
        }
      ]
    },
    {
      "cell_type": "code",
      "source": [
        "x > 9 or x == 10"
      ],
      "metadata": {
        "colab": {
          "base_uri": "https://localhost:8080/"
        },
        "id": "9vCmBTWEGtYS",
        "outputId": "4bcafa1d-cf4b-4869-ba05-e39b767cde33"
      },
      "execution_count": 50,
      "outputs": [
        {
          "output_type": "execute_result",
          "data": {
            "text/plain": [
              "True"
            ]
          },
          "metadata": {},
          "execution_count": 50
        }
      ]
    },
    {
      "cell_type": "code",
      "source": [
        "x < 9 or x != 5\n",
        "# ! is not"
      ],
      "metadata": {
        "colab": {
          "base_uri": "https://localhost:8080/"
        },
        "id": "MCC32VfeHFFx",
        "outputId": "79e1d9d9-c9d4-48ea-b800-0db4a3f1be03"
      },
      "execution_count": 56,
      "outputs": [
        {
          "output_type": "execute_result",
          "data": {
            "text/plain": [
              "True"
            ]
          },
          "metadata": {},
          "execution_count": 56
        }
      ]
    },
    {
      "cell_type": "markdown",
      "source": [
        "Sequence data types"
      ],
      "metadata": {
        "id": "D7uGBRw1Hvxl"
      }
    },
    {
      "cell_type": "code",
      "source": [
        "myfavfood = [\"chicken\", \"mutton\", \"water\"]\n",
        "myfavfood\n",
        "\n",
        "#List\n",
        "# List items are indexed, changeable, ordered, allow duplicate values"
      ],
      "metadata": {
        "colab": {
          "base_uri": "https://localhost:8080/"
        },
        "id": "TWn-wPzrHKPA",
        "outputId": "b9ad13e7-e6d3-4c74-ef48-61c929e50146"
      },
      "execution_count": 65,
      "outputs": [
        {
          "output_type": "execute_result",
          "data": {
            "text/plain": [
              "['chicken', 'mutton', 'water']"
            ]
          },
          "metadata": {},
          "execution_count": 65
        }
      ]
    },
    {
      "cell_type": "code",
      "source": [
        "myfavfood[1]"
      ],
      "metadata": {
        "colab": {
          "base_uri": "https://localhost:8080/",
          "height": 36
        },
        "id": "KwDnhTsTH3SZ",
        "outputId": "06ba8826-10b0-47af-8f22-c6eb3d2c494d"
      },
      "execution_count": 63,
      "outputs": [
        {
          "output_type": "execute_result",
          "data": {
            "text/plain": [
              "'mutton'"
            ],
            "application/vnd.google.colaboratory.intrinsic+json": {
              "type": "string"
            }
          },
          "metadata": {},
          "execution_count": 63
        }
      ]
    },
    {
      "cell_type": "markdown",
      "source": [
        "Changing the list items"
      ],
      "metadata": {
        "id": "yo_0kJ9lIu6Q"
      }
    },
    {
      "cell_type": "code",
      "source": [
        "myfavfood[0] = \"paneer\""
      ],
      "metadata": {
        "id": "6zlMLALIIGR9"
      },
      "execution_count": 66,
      "outputs": []
    },
    {
      "cell_type": "code",
      "source": [
        "myfavfood"
      ],
      "metadata": {
        "colab": {
          "base_uri": "https://localhost:8080/"
        },
        "id": "_Npc2rTBIqMS",
        "outputId": "737bf29d-1633-4132-8508-b39089de2a39"
      },
      "execution_count": 67,
      "outputs": [
        {
          "output_type": "execute_result",
          "data": {
            "text/plain": [
              "['paneer', 'mutton', 'water']"
            ]
          },
          "metadata": {},
          "execution_count": 67
        }
      ]
    },
    {
      "cell_type": "markdown",
      "source": [
        "List allow duplicates | append | remove"
      ],
      "metadata": {
        "id": "f58-4la3I0ot"
      }
    },
    {
      "cell_type": "code",
      "source": [
        "myfavfood.append(\"chicken\")\n",
        "myfavfood"
      ],
      "metadata": {
        "colab": {
          "base_uri": "https://localhost:8080/"
        },
        "id": "iIJHoMBVIszq",
        "outputId": "c011a7c0-e9a4-4ce7-bb1f-d575cdb54e94"
      },
      "execution_count": 73,
      "outputs": [
        {
          "output_type": "execute_result",
          "data": {
            "text/plain": [
              "['paneer',\n",
              " 'mutton',\n",
              " 'water',\n",
              " 'chicken',\n",
              " 'chicken',\n",
              " 'chicken',\n",
              " 'chicken',\n",
              " 'chicken']"
            ]
          },
          "metadata": {},
          "execution_count": 73
        }
      ]
    },
    {
      "cell_type": "code",
      "source": [
        "myfavfood.remove(\"mutton\")"
      ],
      "metadata": {
        "id": "NRAB2gDLJBsu"
      },
      "execution_count": 74,
      "outputs": []
    },
    {
      "cell_type": "code",
      "source": [
        "myfavfood"
      ],
      "metadata": {
        "colab": {
          "base_uri": "https://localhost:8080/"
        },
        "id": "rq5hp6jLJRWn",
        "outputId": "677015e7-5741-4e3d-d1fd-64a510e52cd1"
      },
      "execution_count": 75,
      "outputs": [
        {
          "output_type": "execute_result",
          "data": {
            "text/plain": [
              "['paneer', 'water', 'chicken', 'chicken', 'chicken', 'chicken', 'chicken']"
            ]
          },
          "metadata": {},
          "execution_count": 75
        }
      ]
    },
    {
      "cell_type": "markdown",
      "source": [
        "If else | condition checking\n",
        "WAP to check whether a number is greater than other number or not"
      ],
      "metadata": {
        "id": "fsBjOIEuJwNi"
      }
    },
    {
      "cell_type": "code",
      "source": [
        "a = 30\n",
        "b = 50\n",
        "\n",
        "if b < a:\n",
        "  print(\"a is greater than b\")\n",
        "elif a == b:\n",
        "  print(\"a = b\")\n",
        "else:\n",
        "  print(\"a is not greater than b\")\n"
      ],
      "metadata": {
        "colab": {
          "base_uri": "https://localhost:8080/"
        },
        "id": "40vx-N8mJvwg",
        "outputId": "204a8ac5-a368-4523-95ed-e8e8282ea83b"
      },
      "execution_count": 87,
      "outputs": [
        {
          "output_type": "stream",
          "name": "stdout",
          "text": [
            "a is not greater than b\n"
          ]
        }
      ]
    },
    {
      "cell_type": "markdown",
      "source": [
        "Taking input from user"
      ],
      "metadata": {
        "id": "4Rji9N8vQL16"
      }
    },
    {
      "cell_type": "code",
      "source": [
        "username = input(\"Enter your name: \")"
      ],
      "metadata": {
        "colab": {
          "base_uri": "https://localhost:8080/"
        },
        "id": "3crPQUjQJSpa",
        "outputId": "fc5c4b25-ac64-40ac-cd84-118606ce1c00"
      },
      "execution_count": 88,
      "outputs": [
        {
          "name": "stdout",
          "output_type": "stream",
          "text": [
            "Enter your name: vimal\n"
          ]
        }
      ]
    },
    {
      "cell_type": "code",
      "source": [
        "type(username)"
      ],
      "metadata": {
        "colab": {
          "base_uri": "https://localhost:8080/"
        },
        "id": "Xg5GJ3MCQVho",
        "outputId": "6e280c1a-adee-4744-f0b0-e085445aa390"
      },
      "execution_count": 89,
      "outputs": [
        {
          "output_type": "execute_result",
          "data": {
            "text/plain": [
              "str"
            ]
          },
          "metadata": {},
          "execution_count": 89
        }
      ]
    },
    {
      "cell_type": "code",
      "source": [
        "age = int(input(\"Enter your age: \"))"
      ],
      "metadata": {
        "colab": {
          "base_uri": "https://localhost:8080/"
        },
        "id": "icenHMujQbyr",
        "outputId": "12c81a7b-0160-4c60-f15d-f88a09fb2ac3"
      },
      "execution_count": 90,
      "outputs": [
        {
          "name": "stdout",
          "output_type": "stream",
          "text": [
            "Enter your age: 17\n"
          ]
        }
      ]
    },
    {
      "cell_type": "code",
      "source": [
        "type(age)"
      ],
      "metadata": {
        "colab": {
          "base_uri": "https://localhost:8080/"
        },
        "id": "kqHgAXjGQg3q",
        "outputId": "6858cd87-c022-40df-b9ec-9f2849cb95af"
      },
      "execution_count": 92,
      "outputs": [
        {
          "output_type": "execute_result",
          "data": {
            "text/plain": [
              "int"
            ]
          },
          "metadata": {},
          "execution_count": 92
        }
      ]
    },
    {
      "cell_type": "markdown",
      "source": [
        "WAP to take user's age and if his age is less than 18 print bhaag jaa, if = 18, agle saal ana, if > 18 welcome"
      ],
      "metadata": {
        "id": "SQBkNtgTQqT3"
      }
    },
    {
      "cell_type": "code",
      "source": [
        "min_age = 18"
      ],
      "metadata": {
        "id": "6eV2UAf3R256"
      },
      "execution_count": 106,
      "outputs": []
    },
    {
      "cell_type": "code",
      "source": [
        "age = int(input(\"Enter your age: \"))\n",
        "# Taking user's input in number"
      ],
      "metadata": {
        "colab": {
          "base_uri": "https://localhost:8080/"
        },
        "id": "2RCFiFBvQpx2",
        "outputId": "ff58132a-a459-4420-ef6d-caaf43bf2685"
      },
      "execution_count": 107,
      "outputs": [
        {
          "name": "stdout",
          "output_type": "stream",
          "text": [
            "Enter your age: 17\n"
          ]
        }
      ]
    },
    {
      "cell_type": "code",
      "source": [
        "if age == min_age:\n",
        "  print(\"Agle saal aana\")\n",
        "elif age < min_age:\n",
        "  print(\"Bhaag jaa\")\n",
        "else:\n",
        "  print(\"Welcome!\")"
      ],
      "metadata": {
        "colab": {
          "base_uri": "https://localhost:8080/"
        },
        "id": "LmKmpk84QjiF",
        "outputId": "3a6ba817-dd8f-43ec-a89d-7545e2e82ed8"
      },
      "execution_count": 109,
      "outputs": [
        {
          "output_type": "stream",
          "name": "stdout",
          "text": [
            "Bhaag jaa\n"
          ]
        }
      ]
    },
    {
      "cell_type": "markdown",
      "source": [
        "Functions"
      ],
      "metadata": {
        "id": "S_GeSEgXSSvP"
      }
    },
    {
      "cell_type": "code",
      "source": [
        "def add_num(a,b):\n",
        "  sum = a+b\n",
        "  return sum"
      ],
      "metadata": {
        "id": "byf2K50HSSH1"
      },
      "execution_count": 121,
      "outputs": []
    },
    {
      "cell_type": "code",
      "source": [
        "add_num(1,3)"
      ],
      "metadata": {
        "colab": {
          "base_uri": "https://localhost:8080/"
        },
        "id": "86BbyS8pRQZl",
        "outputId": "a846f730-e913-43e9-a6c1-8f9e7d3ddce4"
      },
      "execution_count": 124,
      "outputs": [
        {
          "output_type": "execute_result",
          "data": {
            "text/plain": [
              "4"
            ]
          },
          "metadata": {},
          "execution_count": 124
        }
      ]
    },
    {
      "cell_type": "code",
      "source": [],
      "metadata": {
        "id": "B3u2IhQ4SlSN"
      },
      "execution_count": 124,
      "outputs": []
    },
    {
      "cell_type": "code",
      "source": [],
      "metadata": {
        "id": "_kFrx95XSrCH"
      },
      "execution_count": null,
      "outputs": []
    }
  ]
}