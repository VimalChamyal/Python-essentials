{
  "nbformat": 4,
  "nbformat_minor": 0,
  "metadata": {
    "colab": {
      "provenance": [],
      "authorship_tag": "ABX9TyP4rCYDCy0nMXbVnte/FZA7",
      "include_colab_link": true
    },
    "kernelspec": {
      "name": "python3",
      "display_name": "Python 3"
    },
    "language_info": {
      "name": "python"
    }
  },
  "cells": [
    {
      "cell_type": "markdown",
      "metadata": {
        "id": "view-in-github",
        "colab_type": "text"
      },
      "source": [
        "<a href=\"https://colab.research.google.com/github/VimalChamyal/Python-for-data-science/blob/main/Conditional_Statements.ipynb\" target=\"_parent\"><img src=\"https://colab.research.google.com/assets/colab-badge.svg\" alt=\"Open In Colab\"/></a>"
      ]
    },
    {
      "cell_type": "markdown",
      "source": [
        "### If Else"
      ],
      "metadata": {
        "id": "82Lj2ihuWKrB"
      }
    },
    {
      "cell_type": "code",
      "execution_count": 31,
      "metadata": {
        "colab": {
          "base_uri": "https://localhost:8080/"
        },
        "id": "qK04ErUtPtET",
        "outputId": "0f81d6e9-9b2f-4baf-babb-13c1a581faa2"
      },
      "outputs": [
        {
          "name": "stdout",
          "output_type": "stream",
          "text": [
            "Enter your age: 3\n"
          ]
        }
      ],
      "source": [
        "#If one is older than 18 he can vote or not\n",
        "p_age = int(input(\"Enter your age: \"))"
      ]
    },
    {
      "cell_type": "code",
      "source": [
        "elg_age = 18"
      ],
      "metadata": {
        "id": "YxQ7qJF8UeVW"
      },
      "execution_count": 32,
      "outputs": []
    },
    {
      "cell_type": "code",
      "source": [
        "can_vote = p_age >= elg_age"
      ],
      "metadata": {
        "id": "4AHX0HxDQeae"
      },
      "execution_count": 33,
      "outputs": []
    },
    {
      "cell_type": "code",
      "source": [
        "print(f\"Eligible to vote: {can_vote}\")"
      ],
      "metadata": {
        "colab": {
          "base_uri": "https://localhost:8080/"
        },
        "id": "3o2nQw3iRINZ",
        "outputId": "7257934d-7ac6-4411-8141-8d79a59b655d"
      },
      "execution_count": 34,
      "outputs": [
        {
          "output_type": "stream",
          "name": "stdout",
          "text": [
            "Eligible to vote: False\n"
          ]
        }
      ]
    },
    {
      "cell_type": "code",
      "source": [
        "if can_vote:\n",
        "  print(f\"As your age is {p_age} which is >= {elg_age}, your eligibilty for voting is {can_vote}\")\n",
        "else:\n",
        "  print(f\"As your age is {p_age} which is < {elg_age}, your eligibilty for voting is {can_vote}\")\n",
        "  print(f\"Come back after {elg_age - p_age} years, when you turn {elg_age}.\")"
      ],
      "metadata": {
        "colab": {
          "base_uri": "https://localhost:8080/"
        },
        "id": "Y8Nsa-o2RRl5",
        "outputId": "862fbbd3-9078-495b-9b0b-1390d1b48d2a"
      },
      "execution_count": 35,
      "outputs": [
        {
          "output_type": "stream",
          "name": "stdout",
          "text": [
            "As your age is 3 which is < 18, your eligibilty for voting is False\n",
            "Come back after 15 years, when you turn 18.\n"
          ]
        }
      ]
    },
    {
      "cell_type": "markdown",
      "source": [
        "### Nested If Else"
      ],
      "metadata": {
        "id": "ujjll4h1WNrS"
      }
    },
    {
      "cell_type": "code",
      "source": [
        "if p_age < 0:\n",
        "  print(\"Invalid input\")\n",
        "else:\n",
        "  if can_vote:\n",
        "    print(f\"As your age is {p_age} which is >= {elg_age}, your eligibilty for voting is {can_vote}\")\n",
        "  else:\n",
        "    print(f\"As your age is {p_age} which is < {elg_age}, your eligibilty for voting is {can_vote}\")\n",
        "    print(f\"Come back after {elg_age - p_age} years, when you turn {elg_age}.\")"
      ],
      "metadata": {
        "colab": {
          "base_uri": "https://localhost:8080/"
        },
        "id": "yohcNX5CUq1W",
        "outputId": "92b5009d-dc21-4ed5-8b14-997c6b5648fd"
      },
      "execution_count": 36,
      "outputs": [
        {
          "output_type": "stream",
          "name": "stdout",
          "text": [
            "As your age is 3 which is < 18, your eligibilty for voting is False\n",
            "Come back after 15 years, when you turn 18.\n"
          ]
        }
      ]
    },
    {
      "cell_type": "markdown",
      "source": [
        "### Using Elif\n",
        "If using it, no need to use nested if else"
      ],
      "metadata": {
        "id": "TAJAKntNWaBb"
      }
    },
    {
      "cell_type": "code",
      "source": [
        "if p_age < 0:\n",
        "  print(\"Invalid input\")\n",
        "elif can_vote:\n",
        "  print(f\"As your age is {p_age} which is >= {elg_age}, your eligibilty for voting is {can_vote}\")\n",
        "else:\n",
        "  print(f\"As your age is {p_age} which is < {elg_age}, your eligibilty for voting is {can_vote}\")\n",
        "  print(f\"Come back after {elg_age - p_age} years, when you turn {elg_age}.\")"
      ],
      "metadata": {
        "colab": {
          "base_uri": "https://localhost:8080/"
        },
        "id": "5Hn3SE-7WGp7",
        "outputId": "34f53d88-2804-47e7-da18-71b630f85af9"
      },
      "execution_count": 37,
      "outputs": [
        {
          "output_type": "stream",
          "name": "stdout",
          "text": [
            "As your age is 3 which is < 18, your eligibilty for voting is False\n",
            "Come back after 15 years, when you turn 18.\n"
          ]
        }
      ]
    },
    {
      "cell_type": "code",
      "source": [],
      "metadata": {
        "id": "0mR5rh1wWgw4"
      },
      "execution_count": null,
      "outputs": []
    }
  ]
}