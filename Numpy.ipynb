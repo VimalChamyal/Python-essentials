{
  "nbformat": 4,
  "nbformat_minor": 0,
  "metadata": {
    "colab": {
      "provenance": [],
      "collapsed_sections": [],
      "authorship_tag": "ABX9TyMgUQVq4RiDhvdV2cSwj4Zg",
      "include_colab_link": true
    },
    "kernelspec": {
      "name": "python3",
      "display_name": "Python 3"
    },
    "language_info": {
      "name": "python"
    }
  },
  "cells": [
    {
      "cell_type": "markdown",
      "metadata": {
        "id": "view-in-github",
        "colab_type": "text"
      },
      "source": [
        "<a href=\"https://colab.research.google.com/github/VimalChamyal/Python-for-data-science/blob/main/Numpy.ipynb\" target=\"_parent\"><img src=\"https://colab.research.google.com/assets/colab-badge.svg\" alt=\"Open In Colab\"/></a>"
      ]
    },
    {
      "cell_type": "markdown",
      "source": [
        "NumPy (Numerical Python) for numerical manipulation. We can use it for its powerful N-dimensional array. "
      ],
      "metadata": {
        "id": "3PlKraEuP_6X"
      }
    },
    {
      "cell_type": "code",
      "source": [
        "!pip install numpy\n",
        "# To install numpy"
      ],
      "metadata": {
        "colab": {
          "base_uri": "https://localhost:8080/"
        },
        "id": "8ToGBjN2R50_",
        "outputId": "2f5ad1ba-909b-4208-d281-f0d22f1e76f2"
      },
      "execution_count": 1,
      "outputs": [
        {
          "output_type": "stream",
          "name": "stdout",
          "text": [
            "Looking in indexes: https://pypi.org/simple, https://us-python.pkg.dev/colab-wheels/public/simple/\n",
            "Requirement already satisfied: numpy in /usr/local/lib/python3.7/dist-packages (1.21.6)\n"
          ]
        }
      ]
    },
    {
      "cell_type": "code",
      "source": [
        "# Load/import numpy library\n",
        "import numpy as np"
      ],
      "metadata": {
        "id": "Yj-9Ms7jSAkG"
      },
      "execution_count": 2,
      "outputs": []
    },
    {
      "cell_type": "code",
      "source": [
        "mylist = [1,2,4,8]\n",
        "n = np.array(mylist)\n",
        "n"
      ],
      "metadata": {
        "colab": {
          "base_uri": "https://localhost:8080/"
        },
        "id": "sIbSUjDwSuAC",
        "outputId": "ce6fa837-5297-4eb3-d852-7def9070cd29"
      },
      "execution_count": 3,
      "outputs": [
        {
          "output_type": "execute_result",
          "data": {
            "text/plain": [
              "array([1, 2, 4, 8])"
            ]
          },
          "metadata": {},
          "execution_count": 3
        }
      ]
    },
    {
      "cell_type": "code",
      "source": [
        "type(mylist)"
      ],
      "metadata": {
        "colab": {
          "base_uri": "https://localhost:8080/"
        },
        "id": "KNyLnrwIS5FE",
        "outputId": "dba5f96f-a2d6-47da-91c4-81ce25b8f9ca"
      },
      "execution_count": 4,
      "outputs": [
        {
          "output_type": "execute_result",
          "data": {
            "text/plain": [
              "list"
            ]
          },
          "metadata": {},
          "execution_count": 4
        }
      ]
    },
    {
      "cell_type": "code",
      "source": [
        "type(n)"
      ],
      "metadata": {
        "colab": {
          "base_uri": "https://localhost:8080/"
        },
        "id": "t4k9x0s1TJm5",
        "outputId": "cf03e497-518c-4455-9c05-eb7a4842abdf"
      },
      "execution_count": 5,
      "outputs": [
        {
          "output_type": "execute_result",
          "data": {
            "text/plain": [
              "numpy.ndarray"
            ]
          },
          "metadata": {},
          "execution_count": 5
        }
      ]
    },
    {
      "cell_type": "code",
      "source": [
        "# We can create a numpy array this way as well\n",
        "n = np.array([1,2,3,4,5,6,7])"
      ],
      "metadata": {
        "id": "vmT3RqT4TK28"
      },
      "execution_count": 6,
      "outputs": []
    },
    {
      "cell_type": "markdown",
      "source": [
        "Creating a multidimensional array"
      ],
      "metadata": {
        "id": "n16dzyyMTX8P"
      }
    },
    {
      "cell_type": "code",
      "source": [
        "list_of_lists = np.array([[1,2,3],[4,5,6],[7,8,9]])\n",
        "list_of_lists"
      ],
      "metadata": {
        "colab": {
          "base_uri": "https://localhost:8080/"
        },
        "id": "AFW39u_8TR5m",
        "outputId": "ee8b9019-3677-4437-f3db-5025fa2f9ffe"
      },
      "execution_count": 7,
      "outputs": [
        {
          "output_type": "execute_result",
          "data": {
            "text/plain": [
              "array([[1, 2, 3],\n",
              "       [4, 5, 6],\n",
              "       [7, 8, 9]])"
            ]
          },
          "metadata": {},
          "execution_count": 7
        }
      ]
    },
    {
      "cell_type": "code",
      "source": [
        "list_of_lists.shape\n",
        "# 3,3 array"
      ],
      "metadata": {
        "colab": {
          "base_uri": "https://localhost:8080/"
        },
        "id": "Av8p2l4qTgFt",
        "outputId": "d5a122f6-4d51-4aac-81b1-7355610fe9c6"
      },
      "execution_count": 8,
      "outputs": [
        {
          "output_type": "execute_result",
          "data": {
            "text/plain": [
              "(3, 3)"
            ]
          },
          "metadata": {},
          "execution_count": 8
        }
      ]
    },
    {
      "cell_type": "markdown",
      "source": [
        "Arrange Function"
      ],
      "metadata": {
        "id": "yIvkkLW8T0hJ"
      }
    },
    {
      "cell_type": "code",
      "source": [
        "np.arange(0,10,2)\n",
        "# Instead of range we have arange here"
      ],
      "metadata": {
        "colab": {
          "base_uri": "https://localhost:8080/"
        },
        "id": "f5-8eH__Tn5x",
        "outputId": "1033708a-e4e2-4b37-f5b5-1b95eb1dcfd8"
      },
      "execution_count": 9,
      "outputs": [
        {
          "output_type": "execute_result",
          "data": {
            "text/plain": [
              "array([0, 2, 4, 6, 8])"
            ]
          },
          "metadata": {},
          "execution_count": 9
        }
      ]
    },
    {
      "cell_type": "code",
      "source": [
        "for i in range(0,20, 2):\n",
        "  print(i)"
      ],
      "metadata": {
        "colab": {
          "base_uri": "https://localhost:8080/"
        },
        "id": "HK_OgMH9T5iH",
        "outputId": "4dd9b883-6efd-465c-a851-a3ed5e637168"
      },
      "execution_count": 10,
      "outputs": [
        {
          "output_type": "stream",
          "name": "stdout",
          "text": [
            "0\n",
            "2\n",
            "4\n",
            "6\n",
            "8\n",
            "10\n",
            "12\n",
            "14\n",
            "16\n",
            "18\n"
          ]
        }
      ]
    },
    {
      "cell_type": "markdown",
      "source": [
        "Other functions in numpy"
      ],
      "metadata": {
        "id": "ucQkHJZgUnKr"
      }
    },
    {
      "cell_type": "code",
      "source": [
        "zero = np.zeros(20)\n",
        "zero\n",
        "# Create array of 20 zeros"
      ],
      "metadata": {
        "colab": {
          "base_uri": "https://localhost:8080/"
        },
        "id": "fPQMAPcFUOEF",
        "outputId": "1a0cd330-1d90-447f-d6a9-1c7e03d36399"
      },
      "execution_count": 11,
      "outputs": [
        {
          "output_type": "execute_result",
          "data": {
            "text/plain": [
              "array([0., 0., 0., 0., 0., 0., 0., 0., 0., 0., 0., 0., 0., 0., 0., 0., 0.,\n",
              "       0., 0., 0.])"
            ]
          },
          "metadata": {},
          "execution_count": 11
        }
      ]
    },
    {
      "cell_type": "code",
      "source": [
        "ones = np.ones(20)\n",
        "ones"
      ],
      "metadata": {
        "colab": {
          "base_uri": "https://localhost:8080/"
        },
        "id": "fBzMYKjAUqeE",
        "outputId": "39459580-be71-444b-e75d-8fb53889aebf"
      },
      "execution_count": 12,
      "outputs": [
        {
          "output_type": "execute_result",
          "data": {
            "text/plain": [
              "array([1., 1., 1., 1., 1., 1., 1., 1., 1., 1., 1., 1., 1., 1., 1., 1., 1.,\n",
              "       1., 1., 1.])"
            ]
          },
          "metadata": {},
          "execution_count": 12
        }
      ]
    },
    {
      "cell_type": "code",
      "source": [
        "np.ones((3,5))\n",
        "# (R,C)"
      ],
      "metadata": {
        "colab": {
          "base_uri": "https://localhost:8080/"
        },
        "id": "JT5igOf4UyhI",
        "outputId": "a518a47c-df15-4150-8079-a2f5b97b926a"
      },
      "execution_count": 13,
      "outputs": [
        {
          "output_type": "execute_result",
          "data": {
            "text/plain": [
              "array([[1., 1., 1., 1., 1.],\n",
              "       [1., 1., 1., 1., 1.],\n",
              "       [1., 1., 1., 1., 1.]])"
            ]
          },
          "metadata": {},
          "execution_count": 13
        }
      ]
    },
    {
      "cell_type": "code",
      "source": [
        "np.eye(5)\n",
        "# Generate five 1 at the diagonals"
      ],
      "metadata": {
        "colab": {
          "base_uri": "https://localhost:8080/"
        },
        "id": "UO0oOiTQU3QQ",
        "outputId": "025f21fe-d9ed-4bd7-85cd-1324262475d0"
      },
      "execution_count": 14,
      "outputs": [
        {
          "output_type": "execute_result",
          "data": {
            "text/plain": [
              "array([[1., 0., 0., 0., 0.],\n",
              "       [0., 1., 0., 0., 0.],\n",
              "       [0., 0., 1., 0., 0.],\n",
              "       [0., 0., 0., 1., 0.],\n",
              "       [0., 0., 0., 0., 1.]])"
            ]
          },
          "metadata": {},
          "execution_count": 14
        }
      ]
    },
    {
      "cell_type": "code",
      "source": [
        "mn = np.arange(0,50,2)\n",
        "len(mn)\n",
        "# To check the length of an array"
      ],
      "metadata": {
        "colab": {
          "base_uri": "https://localhost:8080/"
        },
        "id": "DbVN2gNrVD7H",
        "outputId": "2be30012-a8d3-4db2-ad68-21bfa7884027"
      },
      "execution_count": 15,
      "outputs": [
        {
          "output_type": "execute_result",
          "data": {
            "text/plain": [
              "25"
            ]
          },
          "metadata": {},
          "execution_count": 15
        }
      ]
    },
    {
      "cell_type": "markdown",
      "source": [
        "Reshape"
      ],
      "metadata": {
        "id": "HAlznQa-VoD2"
      }
    },
    {
      "cell_type": "code",
      "source": [
        "mn = np.arange(0,50)\n",
        "mn"
      ],
      "metadata": {
        "colab": {
          "base_uri": "https://localhost:8080/"
        },
        "id": "btSrKuY4Vd8K",
        "outputId": "4a9e69ea-83b9-449c-e4f1-33eb62ae4ee4"
      },
      "execution_count": 16,
      "outputs": [
        {
          "output_type": "execute_result",
          "data": {
            "text/plain": [
              "array([ 0,  1,  2,  3,  4,  5,  6,  7,  8,  9, 10, 11, 12, 13, 14, 15, 16,\n",
              "       17, 18, 19, 20, 21, 22, 23, 24, 25, 26, 27, 28, 29, 30, 31, 32, 33,\n",
              "       34, 35, 36, 37, 38, 39, 40, 41, 42, 43, 44, 45, 46, 47, 48, 49])"
            ]
          },
          "metadata": {},
          "execution_count": 16
        }
      ]
    },
    {
      "cell_type": "code",
      "source": [
        "mn.reshape(5,10)"
      ],
      "metadata": {
        "colab": {
          "base_uri": "https://localhost:8080/"
        },
        "id": "RJxZArnDVrdV",
        "outputId": "a84fbbc2-f2b0-45b4-a461-e063992dbb10"
      },
      "execution_count": 17,
      "outputs": [
        {
          "output_type": "execute_result",
          "data": {
            "text/plain": [
              "array([[ 0,  1,  2,  3,  4,  5,  6,  7,  8,  9],\n",
              "       [10, 11, 12, 13, 14, 15, 16, 17, 18, 19],\n",
              "       [20, 21, 22, 23, 24, 25, 26, 27, 28, 29],\n",
              "       [30, 31, 32, 33, 34, 35, 36, 37, 38, 39],\n",
              "       [40, 41, 42, 43, 44, 45, 46, 47, 48, 49]])"
            ]
          },
          "metadata": {},
          "execution_count": 17
        }
      ]
    },
    {
      "cell_type": "markdown",
      "source": [
        "Linspace"
      ],
      "metadata": {
        "id": "8V6Re2z_V2Ux"
      }
    },
    {
      "cell_type": "code",
      "source": [
        "o = np.linspace(0,6,10)\n",
        "o\n",
        "# It will return 10 evenly spaced values from 0 to 6"
      ],
      "metadata": {
        "colab": {
          "base_uri": "https://localhost:8080/"
        },
        "id": "-jfID_8eVvNZ",
        "outputId": "e355c48f-10a0-4fd0-d206-5883a069b5e3"
      },
      "execution_count": 18,
      "outputs": [
        {
          "output_type": "execute_result",
          "data": {
            "text/plain": [
              "array([0.        , 0.66666667, 1.33333333, 2.        , 2.66666667,\n",
              "       3.33333333, 4.        , 4.66666667, 5.33333333, 6.        ])"
            ]
          },
          "metadata": {},
          "execution_count": 18
        }
      ]
    },
    {
      "cell_type": "code",
      "source": [
        "len(o)"
      ],
      "metadata": {
        "colab": {
          "base_uri": "https://localhost:8080/"
        },
        "id": "LI501viwWH2k",
        "outputId": "823ca777-e3ae-47d5-f2da-dd81e68c8aef"
      },
      "execution_count": 19,
      "outputs": [
        {
          "output_type": "execute_result",
          "data": {
            "text/plain": [
              "10"
            ]
          },
          "metadata": {},
          "execution_count": 19
        }
      ]
    },
    {
      "cell_type": "code",
      "source": [
        "o.reshape(5,2)\n",
        "# inside the braces should multiply to 10 or len(o)"
      ],
      "metadata": {
        "colab": {
          "base_uri": "https://localhost:8080/"
        },
        "id": "Jp26XNE-Wy9A",
        "outputId": "4bf9791a-71eb-4650-d69e-7d01f505ea7f"
      },
      "execution_count": 20,
      "outputs": [
        {
          "output_type": "execute_result",
          "data": {
            "text/plain": [
              "array([[0.        , 0.66666667],\n",
              "       [1.33333333, 2.        ],\n",
              "       [2.66666667, 3.33333333],\n",
              "       [4.        , 4.66666667],\n",
              "       [5.33333333, 6.        ]])"
            ]
          },
          "metadata": {},
          "execution_count": 20
        }
      ]
    },
    {
      "cell_type": "code",
      "source": [
        "o"
      ],
      "metadata": {
        "colab": {
          "base_uri": "https://localhost:8080/"
        },
        "id": "n85ekw27W_A4",
        "outputId": "f479a875-3955-422e-cd80-07559fce700b"
      },
      "execution_count": 21,
      "outputs": [
        {
          "output_type": "execute_result",
          "data": {
            "text/plain": [
              "array([0.        , 0.66666667, 1.33333333, 2.        , 2.66666667,\n",
              "       3.33333333, 4.        , 4.66666667, 5.33333333, 6.        ])"
            ]
          },
          "metadata": {},
          "execution_count": 21
        }
      ]
    },
    {
      "cell_type": "code",
      "source": [
        "o.resize(2,5)\n",
        "# Resize will alter the original one whereas reshape won't\n",
        "o"
      ],
      "metadata": {
        "colab": {
          "base_uri": "https://localhost:8080/"
        },
        "id": "_sG1BCrBXdA0",
        "outputId": "7b94ce18-0407-4106-c4ce-d59876253ca5"
      },
      "execution_count": 22,
      "outputs": [
        {
          "output_type": "execute_result",
          "data": {
            "text/plain": [
              "array([[0.        , 0.66666667, 1.33333333, 2.        , 2.66666667],\n",
              "       [3.33333333, 4.        , 4.66666667, 5.33333333, 6.        ]])"
            ]
          },
          "metadata": {},
          "execution_count": 22
        }
      ]
    },
    {
      "cell_type": "markdown",
      "source": [
        "Generate some random values"
      ],
      "metadata": {
        "id": "pKCbdhJjXqbh"
      }
    },
    {
      "cell_type": "code",
      "source": [
        "np.random.rand(3,2)\n",
        "# Create an array of given shape and populate it with random sample from a uniform distribution over [0,1]"
      ],
      "metadata": {
        "id": "hQQJmkqaXkvO",
        "colab": {
          "base_uri": "https://localhost:8080/"
        },
        "outputId": "ecd8d3ca-bf0a-4565-b132-fe2c083d1a48"
      },
      "execution_count": 23,
      "outputs": [
        {
          "output_type": "execute_result",
          "data": {
            "text/plain": [
              "array([[0.34345989, 0.06567436],\n",
              "       [0.97076365, 0.88955264],\n",
              "       [0.70067545, 0.08113215]])"
            ]
          },
          "metadata": {},
          "execution_count": 23
        }
      ]
    },
    {
      "cell_type": "code",
      "source": [
        "np.random.randn(3,5)\n",
        "# Create an array of given shape and populate it with random samples from the standard normal distribution"
      ],
      "metadata": {
        "colab": {
          "base_uri": "https://localhost:8080/"
        },
        "id": "YRjZHQkUYJJA",
        "outputId": "51efc6ab-d321-4cc4-9f59-555de0b222ed"
      },
      "execution_count": 24,
      "outputs": [
        {
          "output_type": "execute_result",
          "data": {
            "text/plain": [
              "array([[-0.75344354,  0.11579265, -0.42605863,  0.17941441, -0.87754049],\n",
              "       [-0.31737334,  0.65601744,  1.14932969, -0.7505515 ,  0.95734915],\n",
              "       [ 0.01778138,  0.25765527,  1.05164006,  0.33498787, -0.62715173]])"
            ]
          },
          "metadata": {},
          "execution_count": 24
        }
      ]
    },
    {
      "cell_type": "code",
      "source": [
        "ri = np.random.randint(4,15,12)\n",
        "# Return random integers from low to high, we also tell how many numbers we want"
      ],
      "metadata": {
        "id": "LBsi3XckqAFf"
      },
      "execution_count": 25,
      "outputs": []
    },
    {
      "cell_type": "code",
      "source": [
        "len(ri)"
      ],
      "metadata": {
        "colab": {
          "base_uri": "https://localhost:8080/"
        },
        "id": "j8wKwyy7q31O",
        "outputId": "5f022074-da23-488b-eaa1-e1f7056c0321"
      },
      "execution_count": 26,
      "outputs": [
        {
          "output_type": "execute_result",
          "data": {
            "text/plain": [
              "12"
            ]
          },
          "metadata": {},
          "execution_count": 26
        }
      ]
    },
    {
      "cell_type": "code",
      "source": [
        "ri.reshape(4,3)\n",
        "# 4*3 = 12"
      ],
      "metadata": {
        "colab": {
          "base_uri": "https://localhost:8080/"
        },
        "id": "NqGUpTDMrInT",
        "outputId": "52a5d1b2-2714-4c2f-ac23-0897f5aaca35"
      },
      "execution_count": 27,
      "outputs": [
        {
          "output_type": "execute_result",
          "data": {
            "text/plain": [
              "array([[ 6, 12,  4],\n",
              "       [11,  9, 11],\n",
              "       [ 7,  4, 13],\n",
              "       [ 8, 13,  6]])"
            ]
          },
          "metadata": {},
          "execution_count": 27
        }
      ]
    },
    {
      "cell_type": "code",
      "source": [
        "rio = np.random.randint(4,15, (4,3))\n",
        "# We can do this way as well\n",
        "rio"
      ],
      "metadata": {
        "colab": {
          "base_uri": "https://localhost:8080/"
        },
        "id": "RL3onc7JrKuj",
        "outputId": "7352c620-c1b4-41d2-f739-31537bd140fc"
      },
      "execution_count": 28,
      "outputs": [
        {
          "output_type": "execute_result",
          "data": {
            "text/plain": [
              "array([[ 4, 10, 14],\n",
              "       [ 7, 13, 14],\n",
              "       [10,  8, 12],\n",
              "       [ 9, 12,  4]])"
            ]
          },
          "metadata": {},
          "execution_count": 28
        }
      ]
    },
    {
      "cell_type": "markdown",
      "source": [
        "Indexing and slicing"
      ],
      "metadata": {
        "id": "qc7yK8hgrije"
      }
    },
    {
      "cell_type": "code",
      "source": [
        "mn = np.random.randint(4,15,10)\n",
        "mn"
      ],
      "metadata": {
        "colab": {
          "base_uri": "https://localhost:8080/"
        },
        "id": "JXSoKiGBrcj-",
        "outputId": "8f7071cf-b716-4756-dcf2-74c1c7abdc13"
      },
      "execution_count": 29,
      "outputs": [
        {
          "output_type": "execute_result",
          "data": {
            "text/plain": [
              "array([ 5,  4,  9,  9,  5,  8,  8,  5, 10,  5])"
            ]
          },
          "metadata": {},
          "execution_count": 29
        }
      ]
    },
    {
      "cell_type": "code",
      "source": [
        "mn [1:5]\n",
        "# Selecting items within a range"
      ],
      "metadata": {
        "colab": {
          "base_uri": "https://localhost:8080/"
        },
        "id": "g78m9Tg3rntY",
        "outputId": "282c2d69-15fd-4f8f-c19d-f1514a674893"
      },
      "execution_count": 30,
      "outputs": [
        {
          "output_type": "execute_result",
          "data": {
            "text/plain": [
              "array([4, 9, 9, 5])"
            ]
          },
          "metadata": {},
          "execution_count": 30
        }
      ]
    },
    {
      "cell_type": "code",
      "source": [
        "mn [-1]\n",
        "# Last element"
      ],
      "metadata": {
        "colab": {
          "base_uri": "https://localhost:8080/"
        },
        "id": "UoV5T87irsjE",
        "outputId": "990fb9bc-e1ca-4463-d258-6a0b74c72d0d"
      },
      "execution_count": 31,
      "outputs": [
        {
          "output_type": "execute_result",
          "data": {
            "text/plain": [
              "5"
            ]
          },
          "metadata": {},
          "execution_count": 31
        }
      ]
    },
    {
      "cell_type": "code",
      "source": [
        "mn [0 : : -1]"
      ],
      "metadata": {
        "colab": {
          "base_uri": "https://localhost:8080/"
        },
        "id": "f-Pv3OoyryRD",
        "outputId": "7767c756-a205-4833-edf9-2eb776e32da3"
      },
      "execution_count": 32,
      "outputs": [
        {
          "output_type": "execute_result",
          "data": {
            "text/plain": [
              "array([5])"
            ]
          },
          "metadata": {},
          "execution_count": 32
        }
      ]
    },
    {
      "cell_type": "code",
      "source": [
        "mn.resize(2,5)\n",
        "mn"
      ],
      "metadata": {
        "colab": {
          "base_uri": "https://localhost:8080/"
        },
        "id": "Qs28yekNr2jy",
        "outputId": "28e9dab4-b85f-47ed-ca6b-239d46f9c02e"
      },
      "execution_count": 33,
      "outputs": [
        {
          "output_type": "execute_result",
          "data": {
            "text/plain": [
              "array([[ 5,  4,  9,  9,  5],\n",
              "       [ 8,  8,  5, 10,  5]])"
            ]
          },
          "metadata": {},
          "execution_count": 33
        }
      ]
    },
    {
      "cell_type": "code",
      "source": [
        "ab = np.arange(0,60,2)"
      ],
      "metadata": {
        "id": "2ifGuyyRsZgf"
      },
      "execution_count": 34,
      "outputs": []
    },
    {
      "cell_type": "code",
      "source": [
        "ab.resize(5,6)\n",
        "ab"
      ],
      "metadata": {
        "colab": {
          "base_uri": "https://localhost:8080/"
        },
        "id": "_v-8omYDsp2-",
        "outputId": "7ba3b0e7-301d-494c-985e-070ef05d9a30"
      },
      "execution_count": 35,
      "outputs": [
        {
          "output_type": "execute_result",
          "data": {
            "text/plain": [
              "array([[ 0,  2,  4,  6,  8, 10],\n",
              "       [12, 14, 16, 18, 20, 22],\n",
              "       [24, 26, 28, 30, 32, 34],\n",
              "       [36, 38, 40, 42, 44, 46],\n",
              "       [48, 50, 52, 54, 56, 58]])"
            ]
          },
          "metadata": {},
          "execution_count": 35
        }
      ]
    },
    {
      "cell_type": "code",
      "source": [
        "ab[3,2]\n",
        "# Accessing the element at 4th row and 3rd column\n",
        "# Indexing starts from 0"
      ],
      "metadata": {
        "colab": {
          "base_uri": "https://localhost:8080/"
        },
        "id": "OMpnwdc5s4zG",
        "outputId": "05818312-73dc-4a25-e536-2625e3bc6665"
      },
      "execution_count": 36,
      "outputs": [
        {
          "output_type": "execute_result",
          "data": {
            "text/plain": [
              "40"
            ]
          },
          "metadata": {},
          "execution_count": 36
        }
      ]
    },
    {
      "cell_type": "code",
      "source": [
        "ab[3, 1:5]\n",
        "# Selecting the user defined 4 elements from the 4th row"
      ],
      "metadata": {
        "colab": {
          "base_uri": "https://localhost:8080/"
        },
        "id": "EWAGkrd-tUqx",
        "outputId": "e901fa34-2d09-459f-c89e-816aec342ed3"
      },
      "execution_count": 37,
      "outputs": [
        {
          "output_type": "execute_result",
          "data": {
            "text/plain": [
              "array([38, 40, 42, 44])"
            ]
          },
          "metadata": {},
          "execution_count": 37
        }
      ]
    },
    {
      "cell_type": "code",
      "source": [
        "ab"
      ],
      "metadata": {
        "colab": {
          "base_uri": "https://localhost:8080/"
        },
        "id": "xAG3jseDtzLi",
        "outputId": "172c607d-2209-4ad9-ceae-d5fe01b497ed"
      },
      "execution_count": 38,
      "outputs": [
        {
          "output_type": "execute_result",
          "data": {
            "text/plain": [
              "array([[ 0,  2,  4,  6,  8, 10],\n",
              "       [12, 14, 16, 18, 20, 22],\n",
              "       [24, 26, 28, 30, 32, 34],\n",
              "       [36, 38, 40, 42, 44, 46],\n",
              "       [48, 50, 52, 54, 56, 58]])"
            ]
          },
          "metadata": {},
          "execution_count": 38
        }
      ]
    },
    {
      "cell_type": "code",
      "source": [
        "ab[2:]\n",
        "# From the 3rd row"
      ],
      "metadata": {
        "colab": {
          "base_uri": "https://localhost:8080/"
        },
        "id": "e3sB4a16JIJU",
        "outputId": "e9ee0ad7-d5ae-4dd5-bee5-2ab5fc9ef05b"
      },
      "execution_count": 40,
      "outputs": [
        {
          "output_type": "execute_result",
          "data": {
            "text/plain": [
              "array([[24, 26, 28, 30, 32, 34],\n",
              "       [36, 38, 40, 42, 44, 46],\n",
              "       [48, 50, 52, 54, 56, 58]])"
            ]
          },
          "metadata": {},
          "execution_count": 40
        }
      ]
    },
    {
      "cell_type": "code",
      "source": [
        "# Selecting from a particular cell\n",
        "ab[2:,3:]"
      ],
      "metadata": {
        "colab": {
          "base_uri": "https://localhost:8080/"
        },
        "id": "z8HBLvMLJKEk",
        "outputId": "e9da3f1e-fecf-42ab-d191-121e88db169b"
      },
      "execution_count": 41,
      "outputs": [
        {
          "output_type": "execute_result",
          "data": {
            "text/plain": [
              "array([[30, 32, 34],\n",
              "       [42, 44, 46],\n",
              "       [54, 56, 58]])"
            ]
          },
          "metadata": {},
          "execution_count": 41
        }
      ]
    },
    {
      "cell_type": "code",
      "source": [
        "# Conditional indexing\n",
        "ab[ab>=40]"
      ],
      "metadata": {
        "colab": {
          "base_uri": "https://localhost:8080/"
        },
        "id": "cxrRgh4BJdMr",
        "outputId": "109ea8e4-2af8-4187-b833-3c6baba0a11a"
      },
      "execution_count": 43,
      "outputs": [
        {
          "output_type": "execute_result",
          "data": {
            "text/plain": [
              "array([40, 42, 44, 46, 48, 50, 52, 54, 56, 58])"
            ]
          },
          "metadata": {},
          "execution_count": 43
        }
      ]
    },
    {
      "cell_type": "code",
      "source": [
        "ab>=40"
      ],
      "metadata": {
        "colab": {
          "base_uri": "https://localhost:8080/"
        },
        "id": "T42ROHX4JlSK",
        "outputId": "3d1c79a2-8676-4a85-b04e-c868ca02668c"
      },
      "execution_count": 44,
      "outputs": [
        {
          "output_type": "execute_result",
          "data": {
            "text/plain": [
              "array([[False, False, False, False, False, False],\n",
              "       [False, False, False, False, False, False],\n",
              "       [False, False, False, False, False, False],\n",
              "       [False, False,  True,  True,  True,  True],\n",
              "       [ True,  True,  True,  True,  True,  True]])"
            ]
          },
          "metadata": {},
          "execution_count": 44
        }
      ]
    },
    {
      "cell_type": "markdown",
      "source": [
        "Broadcasting"
      ],
      "metadata": {
        "id": "cJcFmdeEJ77F"
      }
    },
    {
      "cell_type": "code",
      "source": [
        "ab[ab>40] = 40\n",
        "ab\n",
        "# Casting all the values that are greater than 40 to 40"
      ],
      "metadata": {
        "colab": {
          "base_uri": "https://localhost:8080/"
        },
        "id": "MkO3Kn0iJrhc",
        "outputId": "54760cf7-3ac5-49a3-8035-858982ab7a04"
      },
      "execution_count": 47,
      "outputs": [
        {
          "output_type": "execute_result",
          "data": {
            "text/plain": [
              "array([[ 0,  2,  4,  6,  8, 10],\n",
              "       [12, 14, 16, 18, 20, 22],\n",
              "       [24, 26, 28, 30, 32, 34],\n",
              "       [36, 38, 40, 40, 40, 40],\n",
              "       [40, 40, 40, 40, 40, 40]])"
            ]
          },
          "metadata": {},
          "execution_count": 47
        }
      ]
    },
    {
      "cell_type": "markdown",
      "source": [
        "Creating a copy of dataset"
      ],
      "metadata": {
        "id": "Uox-FncOKf1p"
      }
    },
    {
      "cell_type": "code",
      "source": [
        "ab1 = ab[2:,3:]\n",
        "ab1"
      ],
      "metadata": {
        "colab": {
          "base_uri": "https://localhost:8080/"
        },
        "id": "5ubfBsdRKHVf",
        "outputId": "1afd9e18-04b8-4e7c-bcc7-0e3346d64aac"
      },
      "execution_count": 49,
      "outputs": [
        {
          "output_type": "execute_result",
          "data": {
            "text/plain": [
              "array([[30, 32, 34],\n",
              "       [40, 40, 40],\n",
              "       [40, 40, 40]])"
            ]
          },
          "metadata": {},
          "execution_count": 49
        }
      ]
    },
    {
      "cell_type": "code",
      "source": [
        "ab"
      ],
      "metadata": {
        "colab": {
          "base_uri": "https://localhost:8080/"
        },
        "id": "snmxBYPEKqIx",
        "outputId": "be7089d1-1cbd-4d0f-b436-8486f03900dc"
      },
      "execution_count": 52,
      "outputs": [
        {
          "output_type": "execute_result",
          "data": {
            "text/plain": [
              "array([[ 0,  2,  4,  6,  8, 10],\n",
              "       [12, 14, 16, 18, 20, 22],\n",
              "       [24, 26, 28, 30, 32, 34],\n",
              "       [36, 38, 40, 40, 40, 40],\n",
              "       [40, 40, 40, 40, 40, 40]])"
            ]
          },
          "metadata": {},
          "execution_count": 52
        }
      ]
    },
    {
      "cell_type": "code",
      "source": [],
      "metadata": {
        "id": "CLBMph5NKukI"
      },
      "execution_count": null,
      "outputs": []
    }
  ]
}